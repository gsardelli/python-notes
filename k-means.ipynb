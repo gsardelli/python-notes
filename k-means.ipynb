{
    "cells": [
        {
            "cell_type": "markdown",
            "metadata": {
                "collapsed": true
            },
            "source": "#  K-means"
        },
        {
            "cell_type": "code",
            "execution_count": 10,
            "metadata": {},
            "outputs": [
                {
                    "name": "stdout",
                    "output_type": "stream",
                    "text": "Libraries imported.\n"
                }
            ],
            "source": "import random # library for random number generation\nimport numpy as np # library for vectorized computation\nimport pandas as pd # library to process data as dataframes\n\nimport json # library to handle JSON files\n\nimport matplotlib.pyplot as plt # plotting library\n# backend for rendering plots within the browser\n%matplotlib inline \n\nfrom sklearn.cluster import KMeans \nfrom sklearn.datasets.samples_generator import make_blobs\n\nfrom pandas.io.json import json_normalize # tranform JSON file into a pandas dataframe\n\nfrom geopy.geocoders import Nominatim # convert an address into latitude and longitude values\n\nprint('Libraries imported.')"
        },
        {
            "cell_type": "code",
            "execution_count": 3,
            "metadata": {},
            "outputs": [
                {
                    "name": "stdout",
                    "output_type": "stream",
                    "text": "x1 [1, 2, 13, 14]\nx2 [2, 4, 13, 14]\ncenters [[5, 13], [3, 6]]\n\ncolors_map ['b', 'r']\nassign_members function defined!\n\nclass_of_points [ True  True False False] \nclass_of_points + 1 - 1: [1 1 0 0]\n\n====================================================================================\nx1: [1, 2, 13, 14] center[0,0]: 5\nx1-center[0,0]: [ 1  2 13 14] - 5\nx1-center[0,0]: [-4 -3  8  9]\n\nx2: [2, 4, 13, 14] center[0,1]: 13\nx2-center[0,1]: [ 2  4 13 14] - 13\nx2-center[0,1]: [-11  -9   0   1]\n[137  90  64  82]\n[11.7, 9.49, 8.0, 9.06]\nclass_of_points + 1 - 1: [1 1 0 0]\n\n====================================================================================\nx1: [1, 2, 13, 14] center[1,0]: 3\nx1-center[1,0]: [ 1  2 13 14] - 3\nx1-center[1,0]: [-2 -1 10 11]\n\nx2: [2, 4, 13, 14] center[1,1]: 6\nx2-center[1,1]: [ 2  4 13 14] - 6\nx2-center[1,1]: [-4 -2  7  8]\n[ 20   5 149 185]\n[4.47, 2.24, 12.21, 13.6]\nclass_of_points + 1 - 1: [1 1 0 0]\n\n====================================================================================\ncolors ['r' 'r' 'b' 'b'] class_of_points [ True  True False False]\n\n====================================================================================\n"
                }
            ],
            "source": "x1 = [-4.9, -3.5, 0, -4.5, -3, -1, -1.2, -4.5, -1.5, -4.5, -1, -2, -2.5, -2, -1.5, 4, 1.8, 2, 2.5, 3, 4, 2.25, 1, 0, 1, 2.5, 5, 2.8, 2, 2]\nx2 = [-3.5, -4, -3.5, -3, -2.9, -3, -2.6, -2.1, 0, -0.5, -0.8, -0.8, -1.5, -1.75, -1.75, 0, 0.8, 0.9, 1, 1, 1, 1.75, 2, 2.5, 2.5, 2.5, 2.5, 3, 6, 6.5]\n\ncenters=[[4, 4], [-2, -1], [2, -3], [1, 1]]\n\nx1 = [1, 2, 13, 14]\nx2 = [2, 4, 13, 14]\ncenters=[[5, 13], [3, 6]]\n\ncolors_map = np.array(['b', 'r'])\n\nprint('x1', x1)\nprint('x2', x2)\nprint('centers', centers)\n\nprint()\nprint('colors_map', list(colors_map))\n         \ndef assign_members(x1, x2, centers):\n    compare_to_first_center = np.sqrt(np.square(np.array(x1) - centers[0][0]) + np.square(np.array(x2) - centers[0][1]))\n    compare_to_second_center = np.sqrt(np.square(np.array(x1) - centers[1][0]) + np.square(np.array(x2) - centers[1][1]))\n    class_of_points = compare_to_first_center > compare_to_second_center\n    print('\\nclass_of_points', class_of_points, '\\nclass_of_points + 1 - 1:', class_of_points + 1 - 1)\n    colors = colors_map[class_of_points + 1 - 1]\n    return colors, class_of_points\n\nprint('assign_members function defined!')\n\n\n\ncolors, class_of_points = assign_members(x1, x2, centers)\n\ncompare_to_first_center = np.sqrt(np.square(np.array(x1) - centers[0][0]) + np.square(np.array(x2) - centers[0][1]))\ncompare_to_second_center = np.sqrt(np.square(np.array(x1) - centers[1][0]) + np.square(np.array(x2) - centers[1][1]))\nclass_of_points = compare_to_first_center > compare_to_second_center\n   \nprint('\\n====================================================================================')\nprint('x1:', x1, 'center[0,0]:', centers[0][0])\nprint('x1-center[0,0]:', np.array(x1), '-', centers[0][0])\nprint('x1-center[0,0]:', np.array(x1) - centers[0][0])\n\nprint()\nprint('x2:', x2, 'center[0,1]:', centers[0][1])\nprint('x2-center[0,1]:', np.array(x2), '-', centers[0][1])\nprint('x2-center[0,1]:', np.array(x2) - centers[0][1])\nprint(np.square(np.array(x1) - centers[0][0]) + np.square(np.array(x2) - centers[0][1]))\nprint([round(elem, 2) for elem in compare_to_first_center])\nprint('class_of_points + 1 - 1:', class_of_points + 1 - 1)\n\nprint('\\n====================================================================================')\nprint('x1:', x1, 'center[1,0]:', centers[1][0])\nprint('x1-center[1,0]:', np.array(x1), '-', centers[1][0])\nprint('x1-center[1,0]:', np.array(x1) - centers[1][0])\n\nprint()\nprint('x2:', x2, 'center[1,1]:', centers[1][1])\nprint('x2-center[1,1]:', np.array(x2), '-', centers[1][1])\nprint('x2-center[1,1]:', np.array(x2) - centers[1][1])\nprint(np.square(np.array(x1) - centers[1][0]) + np.square(np.array(x2) - centers[1][1]))\nprint([round(elem, 2) for elem in compare_to_second_center])\nprint('class_of_points + 1 - 1:', class_of_points + 1 - 1)\n\nprint('\\n====================================================================================')\nprint('colors', colors, 'class_of_points', class_of_points)\nprint('\\n====================================================================================')\n"
        },
        {
            "cell_type": "markdown",
            "metadata": {},
            "source": "# update centroids"
        },
        {
            "cell_type": "code",
            "execution_count": 74,
            "metadata": {},
            "outputs": [
                {
                    "name": "stdout",
                    "output_type": "stream",
                    "text": "assign_members function defined!\n"
                },
                {
                    "data": {
                        "text/plain": "[[13.5, 13.5], [1.5, 3.0]]"
                    },
                    "execution_count": 74,
                    "metadata": {},
                    "output_type": "execute_result"
                }
            ],
            "source": "# update means\ndef update_centers(x1, x2, class_of_points):\n    center1 = [np.mean(np.array(x1)[~class_of_points]), np.mean(np.array(x2)[~class_of_points])]\n    center2 = [np.mean(np.array(x1)[class_of_points]), np.mean(np.array(x2)[class_of_points])]\n    return [center1, center2]\n\nprint('assign_members function defined!')\n\nupdate_centers(x1, x2, class_of_points)\n"
        },
        {
            "cell_type": "markdown",
            "metadata": {},
            "source": "# plot"
        },
        {
            "cell_type": "code",
            "execution_count": 75,
            "metadata": {},
            "outputs": [
                {
                    "name": "stdout",
                    "output_type": "stream",
                    "text": "plot_points function defined!\n"
                }
            ],
            "source": "def plot_points(centroids=None, colors='g', figure_title=None):\n    # plot the figure\n    fig = plt.figure(figsize=(15, 10))  # create a figure object\n    ax = fig.add_subplot(1, 1, 1)\n    \n    centroid_colors = ['bx', 'rx']\n    if centroids:\n        for (i, centroid) in enumerate(centroids):\n            ax.plot(centroid[0], centroid[1], centroid_colors[i], markeredgewidth=5, markersize=20)\n    plt.scatter(x1, x2, s=40, c=colors)\n    \n    # define the ticks\n    xticks = np.linspace(-6, 8, 15, endpoint=True)\n    yticks = np.linspace(-6, 6, 13, endpoint=True)\n\n    # fix the horizontal axis\n    ax.set_xticks(xticks)\n    ax.set_yticks(yticks)\n\n    # add tick labels\n    xlabels = xticks\n    ax.set_xticklabels(xlabels)\n    ylabels = yticks\n    ax.set_yticklabels(ylabels)\n\n    # style the ticks\n    ax.xaxis.set_ticks_position('bottom')\n    ax.yaxis.set_ticks_position('left')\n    ax.tick_params('both', length=2, width=1, which='major', labelsize=15)\n    \n    # add labels to axes\n    ax.set_xlabel('x1', fontsize=20)\n    ax.set_ylabel('x2', fontsize=20)\n    \n    # add title to figure\n    ax.set_title(figure_title, fontsize=24)\n\n    plt.show()\n\nprint('plot_points function defined!')"
        },
        {
            "cell_type": "code",
            "execution_count": 76,
            "metadata": {},
            "outputs": [
                {
                    "data": {
                        "image/png": "[encoded data removed]",
                        "text/plain": "<Figure size 1080x720 with 1 Axes>"
                    },
                    "metadata": {
                        "needs_background": "light"
                    },
                    "output_type": "display_data"
                }
            ],
            "source": "plot_points(figure_title='Scatter Plot of x2 vs x1', colors=colors)"
        },
        {
            "cell_type": "code",
            "execution_count": 59,
            "metadata": {},
            "outputs": [
                {
                    "data": {
                        "text/html": "<div>\n<style scoped>\n    .dataframe tbody tr th:only-of-type {\n        vertical-align: middle;\n    }\n\n    .dataframe tbody tr th {\n        vertical-align: top;\n    }\n\n    .dataframe thead th {\n        text-align: right;\n    }\n</style>\n<table border=\"1\" class=\"dataframe\">\n  <thead>\n    <tr style=\"text-align: right;\">\n      <th></th>\n      <th>0</th>\n      <th>1</th>\n      <th>2</th>\n      <th>3</th>\n      <th>4</th>\n      <th>5</th>\n      <th>6</th>\n      <th>7</th>\n      <th>8</th>\n      <th>9</th>\n      <th>10</th>\n      <th>11</th>\n      <th>12</th>\n      <th>13</th>\n      <th>14</th>\n    </tr>\n  </thead>\n  <tbody>\n    <tr>\n      <th>0</th>\n      <td>1.0</td>\n      <td>2.0</td>\n      <td>3.0</td>\n      <td>4.0</td>\n      <td>5.0</td>\n      <td>6.0</td>\n      <td>7.0</td>\n      <td>8.0</td>\n      <td>9.0</td>\n      <td>10.0</td>\n      <td>11.0</td>\n      <td>12.0</td>\n      <td>13.0</td>\n      <td>14.0</td>\n      <td>15.0</td>\n    </tr>\n  </tbody>\n</table>\n</div>",
                        "text/plain": "    0    1    2    3    4    5    6    7    8     9     10    11    12    13  \\\n0  1.0  2.0  3.0  4.0  5.0  6.0  7.0  8.0  9.0  10.0  11.0  12.0  13.0  14.0   \n\n     14  \n0  15.0  "
                    },
                    "execution_count": 59,
                    "metadata": {},
                    "output_type": "execute_result"
                }
            ],
            "source": "pd.DataFrame(np.linspace(1, 15, 15, endpoint=True)).transpose() #endpoint (define if include or not boundary value)"
        },
        {
            "cell_type": "code",
            "execution_count": null,
            "metadata": {},
            "outputs": [],
            "source": ""
        },
        {
            "cell_type": "code",
            "execution_count": 60,
            "metadata": {},
            "outputs": [
                {
                    "data": {
                        "text/html": "<div>\n<style scoped>\n    .dataframe tbody tr th:only-of-type {\n        vertical-align: middle;\n    }\n\n    .dataframe tbody tr th {\n        vertical-align: top;\n    }\n\n    .dataframe thead th {\n        text-align: right;\n    }\n</style>\n<table border=\"1\" class=\"dataframe\">\n  <thead>\n    <tr style=\"text-align: right;\">\n      <th></th>\n      <th>0</th>\n      <th>1</th>\n      <th>2</th>\n      <th>3</th>\n      <th>4</th>\n      <th>5</th>\n      <th>6</th>\n      <th>7</th>\n      <th>8</th>\n      <th>9</th>\n      <th>10</th>\n      <th>11</th>\n      <th>12</th>\n      <th>13</th>\n      <th>14</th>\n    </tr>\n  </thead>\n  <tbody>\n    <tr>\n      <th>0</th>\n      <td>1.0</td>\n      <td>1.93</td>\n      <td>2.87</td>\n      <td>3.8</td>\n      <td>4.73</td>\n      <td>5.67</td>\n      <td>6.6</td>\n      <td>7.53</td>\n      <td>8.47</td>\n      <td>9.4</td>\n      <td>10.33</td>\n      <td>11.27</td>\n      <td>12.2</td>\n      <td>13.13</td>\n      <td>14.07</td>\n    </tr>\n  </tbody>\n</table>\n</div>",
                        "text/plain": "    0     1     2    3     4     5    6     7     8    9      10     11    12  \\\n0  1.0  1.93  2.87  3.8  4.73  5.67  6.6  7.53  8.47  9.4  10.33  11.27  12.2   \n\n      13     14  \n0  13.13  14.07  "
                    },
                    "execution_count": 60,
                    "metadata": {},
                    "output_type": "execute_result"
                }
            ],
            "source": "pd.DataFrame([round(elem, 2) for elem in np.linspace(1, 15, 15, endpoint=False)]).transpose()"
        },
        {
            "cell_type": "code",
            "execution_count": 82,
            "metadata": {},
            "outputs": [
                {
                    "data": {
                        "text/plain": "array([[0.61960784, 0.00392157, 0.25882353, 1.        ],\n       [0.36862745, 0.30980392, 0.63529412, 1.        ],\n       [0.36862745, 0.30980392, 0.63529412, 1.        ],\n       [0.36862745, 0.30980392, 0.63529412, 1.        ],\n       [0.36862745, 0.30980392, 0.63529412, 1.        ]])"
                    },
                    "execution_count": 82,
                    "metadata": {},
                    "output_type": "execute_result"
                }
            ],
            "source": "colors = plt.cm.Spectral(np.linspace(0, 10, 5))\ncolors"
        },
        {
            "cell_type": "markdown",
            "metadata": {},
            "source": "# df.append\nDefine new DataFrame e convert json in DataFrame"
        },
        {
            "cell_type": "code",
            "execution_count": 9,
            "metadata": {},
            "outputs": [
                {
                    "name": "stdout",
                    "output_type": "stream",
                    "text": "Data downloaded!\nprint(newyork_data[features][0])\n{'type': 'Feature', 'id': 'nyu_2451_34572.1', 'geometry': {'type': 'Point', 'coordinates': [-73.84720052054902, 40.89470517661]}, 'geometry_name': 'geom', 'properties': {'name': 'Wakefield', 'stacked': 1, 'annoline1': 'Wakefield', 'annoline2': None, 'annoline3': None, 'annoangle': 0.0, 'borough': 'Bronx', 'bbox': [-73.84720052054902, 40.89470517661, -73.84720052054902, 40.89470517661]}}\n\nneighborhoods_data[0])\n{'type': 'Feature', 'id': 'nyu_2451_34572.1', 'geometry': {'type': 'Point', 'coordinates': [-73.84720052054902, 40.89470517661]}, 'geometry_name': 'geom', 'properties': {'name': 'Wakefield', 'stacked': 1, 'annoline1': 'Wakefield', 'annoline2': None, 'annoline3': None, 'annoangle': 0.0, 'borough': 'Bronx', 'bbox': [-73.84720052054902, 40.89470517661, -73.84720052054902, 40.89470517661]}}\n"
                },
                {
                    "data": {
                        "text/html": "<div>\n<style scoped>\n    .dataframe tbody tr th:only-of-type {\n        vertical-align: middle;\n    }\n\n    .dataframe tbody tr th {\n        vertical-align: top;\n    }\n\n    .dataframe thead th {\n        text-align: right;\n    }\n</style>\n<table border=\"1\" class=\"dataframe\">\n  <thead>\n    <tr style=\"text-align: right;\">\n      <th></th>\n      <th>Borough</th>\n      <th>Neighborhood</th>\n      <th>Latitude</th>\n      <th>Longitude</th>\n    </tr>\n  </thead>\n  <tbody>\n    <tr>\n      <th>0</th>\n      <td>Bronx</td>\n      <td>Wakefield</td>\n      <td>40.894705</td>\n      <td>-73.847201</td>\n    </tr>\n    <tr>\n      <th>1</th>\n      <td>Bronx</td>\n      <td>Co-op City</td>\n      <td>40.874294</td>\n      <td>-73.829939</td>\n    </tr>\n    <tr>\n      <th>2</th>\n      <td>Bronx</td>\n      <td>Eastchester</td>\n      <td>40.887556</td>\n      <td>-73.827806</td>\n    </tr>\n    <tr>\n      <th>3</th>\n      <td>Bronx</td>\n      <td>Fieldston</td>\n      <td>40.895437</td>\n      <td>-73.905643</td>\n    </tr>\n    <tr>\n      <th>4</th>\n      <td>Bronx</td>\n      <td>Riverdale</td>\n      <td>40.890834</td>\n      <td>-73.912585</td>\n    </tr>\n  </tbody>\n</table>\n</div>",
                        "text/plain": "  Borough Neighborhood   Latitude  Longitude\n0   Bronx    Wakefield  40.894705 -73.847201\n1   Bronx   Co-op City  40.874294 -73.829939\n2   Bronx  Eastchester  40.887556 -73.827806\n3   Bronx    Fieldston  40.895437 -73.905643\n4   Bronx    Riverdale  40.890834 -73.912585"
                    },
                    "execution_count": 9,
                    "metadata": {},
                    "output_type": "execute_result"
                }
            ],
            "source": "!wget -q -O 'newyork_data.json' https://cocl.us/new_york_dataset\nprint('Data downloaded!')\nwith open('newyork_data.json') as json_data:\n    newyork_data = json.load(json_data)\n\nprint('print(newyork_data[''features''][0])')    \nprint(newyork_data['features'][0])\n\nneighborhoods_data = newyork_data['features']\n\nprint()\nprint('neighborhoods_data[0])')\nprint(neighborhoods_data[0])\n\n# define the dataframe columns\ncolumn_names = ['Borough', 'Neighborhood', 'Latitude', 'Longitude'] \n\n# instantiate the dataframe\nneighborhoods = pd.DataFrame(columns=column_names)\n\n\nfor data in neighborhoods_data:\n    borough = neighborhood_name = data['properties']['borough'] \n    neighborhood_name = data['properties']['name']\n        \n    neighborhood_latlon = data['geometry']['coordinates']\n    neighborhood_lat = neighborhood_latlon[1]\n    neighborhood_lon = neighborhood_latlon[0]\n    \n    neighborhoods = neighborhoods.append({'Borough': borough,\n                                          'Neighborhood': neighborhood_name,\n                                          'Latitude': neighborhood_lat,\n                                          'Longitude': neighborhood_lon}, ignore_index=True)\n    \nneighborhoods.head()"
        },
        {
            "cell_type": "markdown",
            "metadata": {},
            "source": "# Convert address 2 location"
        },
        {
            "cell_type": "code",
            "execution_count": 11,
            "metadata": {},
            "outputs": [
                {
                    "name": "stdout",
                    "output_type": "stream",
                    "text": "The geograpical coordinate of New York City are 40.7127281, -74.0060152.\n"
                }
            ],
            "source": "address = 'New York City, NY'\n\ngeolocator = Nominatim(user_agent=\"ny_explorer\")\nlocation = geolocator.geocode(address)\nlatitude = location.latitude\nlongitude = location.longitude\nprint('The geograpical coordinate of New York City are {}, {}.'.format(latitude, longitude))"
        },
        {
            "cell_type": "markdown",
            "metadata": {},
            "source": "# StandardScaler"
        },
        {
            "cell_type": "code",
            "execution_count": 3,
            "metadata": {},
            "outputs": [
                {
                    "name": "stdout",
                    "output_type": "stream",
                    "text": "scaler.fit(data) StandardScaler(copy=True, with_mean=True, with_std=True)\nscaler.mean_ [0.5 0.5]\n[[-1. -1.]\n [-1. -1.]\n [ 1.  1.]\n [ 1.  1.]]\n[[3. 3.]]\n"
                }
            ],
            "source": "from sklearn.preprocessing import StandardScaler\n\ndata = [[0, 0], [0, 0], [1, 1], [1, 1]]\nscaler = StandardScaler()\nprint('scaler.fit(data)', scaler.fit(data))\n\nStandardScaler()\nprint('scaler.mean_', scaler.mean_)\nprint(scaler.transform(data))\n\nprint(scaler.transform([[2, 2]]))\n"
        },
        {
            "cell_type": "markdown",
            "metadata": {},
            "source": "# makeblobs"
        },
        {
            "cell_type": "code",
            "execution_count": 6,
            "metadata": {},
            "outputs": [
                {
                    "name": "stdout",
                    "output_type": "stream",
                    "text": "X.shape: (10, 2) y: [0 0 1 0 2 2 2 1 1 0]\nX.shape: (10, 2) y: [0 1 2 0 2 2 2 1 1 0]\n"
                }
            ],
            "source": "from sklearn.datasets import make_blobs\nX, y = make_blobs(n_samples=10, centers=3, n_features=2,\n                  random_state=0)\n\nprint('X.shape:', X.shape, 'y:', y)\n\nX, y = make_blobs(n_samples=[3, 3, 4], centers=None, n_features=2,\n                  random_state=0)\n\nprint('X.shape:', X.shape, 'y:', y)"
        },
        {
            "cell_type": "code",
            "execution_count": null,
            "metadata": {},
            "outputs": [],
            "source": ""
        }
    ],
    "metadata": {
        "kernelspec": {
            "display_name": "Python 3.6",
            "language": "python",
            "name": "python3"
        },
        "language_info": {
            "codemirror_mode": {
                "name": "ipython",
                "version": 3
            },
            "file_extension": ".py",
            "mimetype": "text/x-python",
            "name": "python",
            "nbconvert_exporter": "python",
            "pygments_lexer": "ipython3",
            "version": "3.6.9"
        }
    },
    "nbformat": 4,
    "nbformat_minor": 1
}